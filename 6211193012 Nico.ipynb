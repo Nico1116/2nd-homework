{
 "cells": [
  {
   "cell_type": "code",
   "execution_count": 4,
   "id": "e3d8dcd6",
   "metadata": {},
   "outputs": [
    {
     "name": "stdout",
     "output_type": "stream",
     "text": [
      "<class 'tuple'>\n",
      "('mango', 'watermelon', 'cucumber', 'eggplant')\n"
     ]
    }
   ],
   "source": [
    "fruits_vegetable = (\"mango\",\"watermelon\",\"cucumber\",\"eggplant\")\n",
    "print(type(fruits_and_vegetable))\n",
    "print(fruits_and_vegetable)"
   ]
  },
  {
   "cell_type": "code",
   "execution_count": 5,
   "id": "c404711b",
   "metadata": {},
   "outputs": [
    {
     "name": "stdout",
     "output_type": "stream",
     "text": [
      "4\n"
     ]
    }
   ],
   "source": [
    "print(len(fruits_vegetable))"
   ]
  },
  {
   "cell_type": "code",
   "execution_count": 9,
   "id": "829cf6bc",
   "metadata": {},
   "outputs": [
    {
     "name": "stdout",
     "output_type": "stream",
     "text": [
      "('mango', 'watermelon', 'cucumber', 'eggplant', 'Seafood mushroom', 'Americano', 'soymilk')\n"
     ]
    }
   ],
   "source": [
    "mushroom=(\"Seafood mushroom\",)\n",
    "drink=(\"Americano\",\"soymilk\",)\n",
    "food_tuple=fruits_vegetable+mushroom+drink\n",
    "print(food_tuple)"
   ]
  },
  {
   "cell_type": "code",
   "execution_count": 16,
   "id": "222ea612",
   "metadata": {},
   "outputs": [
    {
     "name": "stdout",
     "output_type": "stream",
     "text": [
      "('mango', 'watermelon', 'cucumber', 'eggplant')\n",
      "Seafood mushroom\n",
      "('Americano', 'soymilk')\n"
     ]
    }
   ],
   "source": [
    "fruits_vegetable=food_tuple[0:4]\n",
    "mushroom=food_tuple[-3]\n",
    "drink=food_tuple[-2:]\n",
    "print(fruits_vegetable)\n",
    "print(mushroom)\n",
    "print(drink)"
   ]
  },
  {
   "cell_type": "code",
   "execution_count": 17,
   "id": "d62dcfbc",
   "metadata": {},
   "outputs": [
    {
     "name": "stdout",
     "output_type": "stream",
     "text": [
      "['mango', 'watermelon', 'cucumber', 'eggplant', 'Seafood mushroom', 'Americano', 'soymilk']\n"
     ]
    }
   ],
   "source": [
    "food_list=list(food_tuple)\n",
    "print(food_list)"
   ]
  },
  {
   "cell_type": "code",
   "execution_count": 18,
   "id": "dc4d1571",
   "metadata": {},
   "outputs": [
    {
     "name": "stdout",
     "output_type": "stream",
     "text": [
      "cucumber\n"
     ]
    }
   ],
   "source": [
    "new_list=food_list[2]\n",
    "print(new_list)"
   ]
  },
  {
   "cell_type": "code",
   "execution_count": 28,
   "id": "7ca55914",
   "metadata": {},
   "outputs": [
    {
     "name": "stdout",
     "output_type": "stream",
     "text": [
      "['mango', 'watermelon', 'cucumber']\n",
      "['Seafood mushroom', 'Americano', 'soymilk']\n"
     ]
    }
   ],
   "source": [
    "new_list_2=food_list[0:3]\n",
    "new_list_3=food_list[-3:]\n",
    "print(new_list_2)\n",
    "print(new_list_3)"
   ]
  },
  {
   "cell_type": "code",
   "execution_count": 29,
   "id": "608e1153",
   "metadata": {},
   "outputs": [],
   "source": [
    "del food_tuple"
   ]
  },
  {
   "cell_type": "code",
   "execution_count": 30,
   "id": "509a210e",
   "metadata": {},
   "outputs": [
    {
     "name": "stdout",
     "output_type": "stream",
     "text": [
      "False\n",
      "True\n"
     ]
    }
   ],
   "source": [
    "asian_countries = ('India','China','Singapore','Thailand','Indonesia')\n",
    "print('Finland'in asian_countries)    \n",
    "print('India' in asian_countries)"
   ]
  }
 ],
 "metadata": {
  "kernelspec": {
   "display_name": "Python 3",
   "language": "python",
   "name": "python3"
  },
  "language_info": {
   "codemirror_mode": {
    "name": "ipython",
    "version": 3
   },
   "file_extension": ".py",
   "mimetype": "text/x-python",
   "name": "python",
   "nbconvert_exporter": "python",
   "pygments_lexer": "ipython3",
   "version": "3.8.8"
  }
 },
 "nbformat": 4,
 "nbformat_minor": 5
}
